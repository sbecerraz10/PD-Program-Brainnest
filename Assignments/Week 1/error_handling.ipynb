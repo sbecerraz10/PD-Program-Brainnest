{
 "cells": [
  {
   "attachments": {},
   "cell_type": "markdown",
   "metadata": {},
   "source": [
    "1. Write a function that takes a list of integers as an argument, and returns the sum of the integers. Use a try-except block to catch any ValueError exceptions that may be raised when attempting to convert a string to an integer."
   ]
  },
  {
   "cell_type": "code",
   "execution_count": 1,
   "metadata": {},
   "outputs": [
    {
     "name": "stdout",
     "output_type": "stream",
     "text": [
      "15\n"
     ]
    }
   ],
   "source": [
    "def sum_integers(int_list):\n",
    "    total = 0\n",
    "    for num in int_list:\n",
    "        try:\n",
    "            total += int(num)\n",
    "        except ValueError:\n",
    "            print(f\"Cannot convert {num} to integer\")\n",
    "    return total\n",
    "\n",
    "my_list = ['1', '2', '3', '4', '5']\n",
    "print(sum_integers(my_list))  # Output: 15\n"
   ]
  },
  {
   "attachments": {},
   "cell_type": "markdown",
   "metadata": {},
   "source": [
    "2. Write a function that takes a filename as an argument, and attempts to open the file. Use a try-except block to catch any FileNotFoundError exceptions that may be raised when attempting to open the file. If the file is successfully opened, the function should return the contents of the file."
   ]
  },
  {
   "cell_type": "code",
   "execution_count": null,
   "metadata": {},
   "outputs": [],
   "source": [
    "def read_file(filename):\n",
    "    try:\n",
    "        with open(filename, 'r') as file:\n",
    "            contents = file.read()\n",
    "            return contents\n",
    "    except FileNotFoundError:\n",
    "        print(f\"File {filename} not found.\")\n",
    "\n",
    "filename = 'sample.txt'\n",
    "file_contents = read_file(filename)\n",
    "if file_contents is not None:\n",
    "    print(file_contents)\n"
   ]
  },
  {
   "attachments": {},
   "cell_type": "markdown",
   "metadata": {},
   "source": [
    "3. Write a function that takes a list of strings as an argument, and returns a new list containing only the strings that can be successfully converted to a float. Use a try-except block to catch any ValueError exceptions that may be raised when attempting to convert a string to a float."
   ]
  },
  {
   "cell_type": "code",
   "execution_count": 1,
   "metadata": {},
   "outputs": [
    {
     "name": "stdout",
     "output_type": "stream",
     "text": [
      "[1.5, 2.0, 3.7, 4.2]\n"
     ]
    }
   ],
   "source": [
    "def convert_to_float(str_list):\n",
    "    float_list = []\n",
    "    for string in str_list:\n",
    "        try:\n",
    "            float_list.append(float(string))\n",
    "        except ValueError:\n",
    "            pass\n",
    "    return float_list\n",
    "\n",
    "my_list = ['1.5', '2', '3.7', 'foo', '4.2', 'bar']\n",
    "print(convert_to_float(my_list))  # Output: [1.5, 2.0, 3.7, 4.2]\n"
   ]
  },
  {
   "attachments": {},
   "cell_type": "markdown",
   "metadata": {},
   "source": [
    "4. Write a function that takes a list of dictionaries as an argument, and returns the value of a specified key from each dictionary. Use a try-except block to catch any KeyError exceptions that may be raised when attempting to access a key that does not exist in a dictionary."
   ]
  },
  {
   "cell_type": "code",
   "execution_count": 2,
   "metadata": {},
   "outputs": [
    {
     "name": "stdout",
     "output_type": "stream",
     "text": [
      "[85, 90]\n"
     ]
    }
   ],
   "source": [
    "def get_values_from_dicts(dict_list, key):\n",
    "    value_list = []\n",
    "    for d in dict_list:\n",
    "        try:\n",
    "            value = d[key]\n",
    "            value_list.append(value)\n",
    "        except KeyError:\n",
    "            pass\n",
    "    return value_list\n",
    "\n",
    "my_list = [{'name': 'Alice', 'age': 25, 'score': 85},\n",
    "           {'name': 'Bob', 'age': 30, 'score': 90},\n",
    "           {'name': 'Charlie', 'age': 35}]\n",
    "print(get_values_from_dicts(my_list, 'score'))  # Output: [85, 90]\n"
   ]
  },
  {
   "attachments": {},
   "cell_type": "markdown",
   "metadata": {},
   "source": [
    "5. Write a function that takes a list of integers as an argument, and returns the largest integer in the list. Use a try-except block to catch any ValueError exceptions that may be raised when attempting to compare elements that are not integers."
   ]
  },
  {
   "cell_type": "code",
   "execution_count": 3,
   "metadata": {},
   "outputs": [
    {
     "name": "stdout",
     "output_type": "stream",
     "text": [
      "10\n"
     ]
    }
   ],
   "source": [
    "def find_largest_int(int_list):\n",
    "    largest_int = None\n",
    "    for num in int_list:\n",
    "        try:\n",
    "            if largest_int is None or num > largest_int:\n",
    "                largest_int = num\n",
    "        except ValueError:\n",
    "            pass\n",
    "    return largest_int\n",
    "\n",
    "my_list = [1, 5, 10, 3, 7]\n",
    "print(find_largest_int(my_list))  # Output: 10\n"
   ]
  }
 ],
 "metadata": {
  "kernelspec": {
   "display_name": "Python 3",
   "language": "python",
   "name": "python3"
  },
  "language_info": {
   "codemirror_mode": {
    "name": "ipython",
    "version": 3
   },
   "file_extension": ".py",
   "mimetype": "text/x-python",
   "name": "python",
   "nbconvert_exporter": "python",
   "pygments_lexer": "ipython3",
   "version": "3.9.13"
  },
  "orig_nbformat": 4,
  "vscode": {
   "interpreter": {
    "hash": "f7a5be651532581cb44625d52e18aa1d390cab54bc6b51099d8c30bea9b68219"
   }
  }
 },
 "nbformat": 4,
 "nbformat_minor": 2
}
