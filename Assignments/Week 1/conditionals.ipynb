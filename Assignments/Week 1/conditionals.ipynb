{
 "cells": [
  {
   "attachments": {},
   "cell_type": "markdown",
   "metadata": {},
   "source": [
    "1. Write a program that prompts the user for a string and checks whether the string is a palindrome (i.e., the string reads the same forward and backward)."
   ]
  },
  {
   "cell_type": "code",
   "execution_count": 2,
   "metadata": {},
   "outputs": [
    {
     "name": "stdout",
     "output_type": "stream",
     "text": [
      "\n",
      " The word hannah is palindrome\n"
     ]
    }
   ],
   "source": [
    "\n",
    "\n",
    "def isPalindrome(word):\n",
    "    return word == word[::-1]\n",
    "\n",
    "def main():\n",
    "    message = \"Enter a word: \"\n",
    "    word = input(message)\n",
    "    ans = isPalindrome(word)\n",
    "    if ans:\n",
    "        print(f\"\\n The word {word} is palindrome\")\n",
    "    else:\n",
    "        print(f\"\\n The word {word} is NOT palindrome\")\n",
    "\n",
    "if __name__ == \"__main__\":\n",
    "    main()"
   ]
  },
  {
   "attachments": {},
   "cell_type": "markdown",
   "metadata": {},
   "source": [
    "2. Write a program that takes in a list of integers and returns the sum of all even numbers in the list."
   ]
  },
  {
   "cell_type": "code",
   "execution_count": 3,
   "metadata": {},
   "outputs": [
    {
     "name": "stdout",
     "output_type": "stream",
     "text": [
      "The even numbers sum is: 8\n"
     ]
    }
   ],
   "source": [
    "\n",
    "\n",
    "def sumifEven(numbers):\n",
    "    return sum(num for num in numbers if not num%2)\n",
    "\n",
    "def main():\n",
    "    message = \"Enter a list of numbers separated by comma: \"\n",
    "    s = input(message)\n",
    "    numbers = list(map(int, s.split(\",\")))\n",
    "    numbers_sum = sumifEven(numbers)\n",
    "    print(f\"The even numbers sum is: {numbers_sum}\")\n",
    "\n",
    "\n",
    "if __name__ == \"__main__\":\n",
    "    main()"
   ]
  },
  {
   "attachments": {},
   "cell_type": "markdown",
   "metadata": {},
   "source": [
    "3. Write a program that prompts the user for their age and checks whether they are old enough to vote (i.e., 18 years old or older)."
   ]
  },
  {
   "cell_type": "code",
   "execution_count": 5,
   "metadata": {},
   "outputs": [
    {
     "name": "stdout",
     "output_type": "stream",
     "text": [
      "You are old enough to vote\n"
     ]
    }
   ],
   "source": [
    "\n",
    "\n",
    "def checkage(age):\n",
    "    legal = False\n",
    "    if age > 18:\n",
    "        legal = True\n",
    "    \n",
    "    return legal\n",
    "\n",
    "def main():\n",
    "    message = \"Enter your age: \"\n",
    "    age = int(input(message))\n",
    "    legal = False\n",
    "    legal = checkage(age)\n",
    "    if legal:\n",
    "        print(f\"You are old enough to vote\")\n",
    "    else:\n",
    "        print(\"You are not old enough to vote\")\n",
    "        \n",
    "\n",
    "\n",
    "if __name__ == \"__main__\":\n",
    "    main()"
   ]
  },
  {
   "attachments": {},
   "cell_type": "markdown",
   "metadata": {},
   "source": [
    "4. Write a program that takes in a list of integers and returns the largest number in the list that is also divisible by 3."
   ]
  },
  {
   "cell_type": "code",
   "execution_count": 7,
   "metadata": {},
   "outputs": [
    {
     "name": "stdout",
     "output_type": "stream",
     "text": [
      "The largest number divisible by 3 is: 81\n"
     ]
    }
   ],
   "source": [
    "\n",
    "def largestAndBy3(numbers):\n",
    "    return max(num for num in numbers if num%3 == 0)\n",
    "\n",
    "def main():\n",
    "    message = \"Enter a list of numbers separated by comma: \"\n",
    "    s = input(message)\n",
    "    numbers = list(map(int, s.split(\",\")))\n",
    "    largest = largestAndBy3(numbers)\n",
    "    print(f\"The largest number divisible by 3 is: {largest}\")\n",
    "\n",
    "\n",
    "if __name__ == \"__main__\":\n",
    "    main()"
   ]
  },
  {
   "attachments": {},
   "cell_type": "markdown",
   "metadata": {},
   "source": [
    "5. Write a program that prompts the user for a number and checks whether the number is a prime number (i.e., only divisible by 1 and itself)."
   ]
  },
  {
   "cell_type": "code",
   "execution_count": 10,
   "metadata": {},
   "outputs": [
    {
     "name": "stdout",
     "output_type": "stream",
     "text": [
      "The number 14 is NOT prime\n"
     ]
    }
   ],
   "source": [
    "import math\n",
    "def isPrime(num):\n",
    "    a=2\n",
    "    while a<=math.sqrt(num):\n",
    "        if num%a<1:\n",
    "            return False\n",
    "        a=a+1\n",
    "    return num>1\n",
    "\n",
    "def main():\n",
    "    message = \"Enter a number: \"\n",
    "    number = int(input(message))\n",
    "    ans = isPrime(number)\n",
    "    if ans: print(f\"The number {number} is prime\")\n",
    "    else: print(f\"The number {number} is NOT prime\")\n",
    "\n",
    "\n",
    "if __name__ == \"__main__\":\n",
    "    main()"
   ]
  }
 ],
 "metadata": {
  "kernelspec": {
   "display_name": "Python 3",
   "language": "python",
   "name": "python3"
  },
  "language_info": {
   "codemirror_mode": {
    "name": "ipython",
    "version": 3
   },
   "file_extension": ".py",
   "mimetype": "text/x-python",
   "name": "python",
   "nbconvert_exporter": "python",
   "pygments_lexer": "ipython3",
   "version": "3.9.13"
  },
  "orig_nbformat": 4,
  "vscode": {
   "interpreter": {
    "hash": "f7a5be651532581cb44625d52e18aa1d390cab54bc6b51099d8c30bea9b68219"
   }
  }
 },
 "nbformat": 4,
 "nbformat_minor": 2
}
