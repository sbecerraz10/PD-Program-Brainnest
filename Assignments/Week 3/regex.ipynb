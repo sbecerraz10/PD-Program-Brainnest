{
 "cells": [
  {
   "attachments": {},
   "cell_type": "markdown",
   "metadata": {},
   "source": [
    "1.  Write a regular expression that matches a date in the format dd/mm/yyyy. For example, the string \"01/01/2021\" should match."
   ]
  },
  {
   "cell_type": "code",
   "execution_count": 1,
   "metadata": {},
   "outputs": [
    {
     "name": "stdout",
     "output_type": "stream",
     "text": [
      "Match found!\n"
     ]
    }
   ],
   "source": [
    "import re\n",
    "\n",
    "date_regex = r'\\d{2}/\\d{2}/\\d{4}'\n",
    "\n",
    "date_string = '01/01/2021'\n",
    "\n",
    "if re.match(date_regex, date_string):\n",
    "    print('Match found!')\n",
    "else:\n",
    "    print('Match not found.')\n"
   ]
  },
  {
   "attachments": {},
   "cell_type": "markdown",
   "metadata": {},
   "source": [
    "2. Write a regular expression that matches a phone number in the format xxx-xxx-xxxx, where x is a digit. For example, the string \"123-456-7890\" should match."
   ]
  },
  {
   "cell_type": "code",
   "execution_count": 2,
   "metadata": {},
   "outputs": [
    {
     "name": "stdout",
     "output_type": "stream",
     "text": [
      "Phone number is valid.\n"
     ]
    }
   ],
   "source": [
    "import re\n",
    "\n",
    "phone_number_regex = r'\\d{3}-\\d{3}-\\d{4}'\n",
    "phone_number = '123-456-7890'\n",
    "\n",
    "if re.match(phone_number_regex, phone_number):\n",
    "    print(\"Phone number is valid.\")\n",
    "else:\n",
    "    print(\"Invalid phone number.\")\n"
   ]
  },
  {
   "attachments": {},
   "cell_type": "markdown",
   "metadata": {},
   "source": [
    "3. Write a regular expression that matches a valid email address. For example, the string \"example@example.com\" should match."
   ]
  },
  {
   "cell_type": "code",
   "execution_count": 3,
   "metadata": {},
   "outputs": [
    {
     "name": "stdout",
     "output_type": "stream",
     "text": [
      "True\n"
     ]
    }
   ],
   "source": [
    "import re\n",
    "\n",
    "email_regex = r'^[a-zA-Z0-9._%+-]+@[a-zA-Z0-9.-]+\\.[a-zA-Z]{2,}$'\n",
    "\n",
    "def is_valid_email(email):\n",
    "    return re.match(email_regex, email) is not None\n",
    "\n",
    "email_1 = \"bob@microsoft.com\"\n",
    "print(is_valid_email(email=email_1))\n"
   ]
  },
  {
   "attachments": {},
   "cell_type": "markdown",
   "metadata": {},
   "source": [
    "4. Write a regular expression that matches a string that starts with a word, followed by one or more whitespace characters, followed by another word. For example, the string \"hello world\" should match."
   ]
  },
  {
   "cell_type": "code",
   "execution_count": 6,
   "metadata": {},
   "outputs": [
    {
     "name": "stdout",
     "output_type": "stream",
     "text": [
      "Valid\n"
     ]
    }
   ],
   "source": [
    "import re\n",
    "\n",
    "word_regex = r'^\\w+\\s+\\w+'\n",
    "word = 'hello world'\n",
    "\n",
    "if re.match(word_regex, word):\n",
    "    print(\"Valid\")\n",
    "else:\n",
    "    print(\"Not Valid\")\n"
   ]
  },
  {
   "attachments": {},
   "cell_type": "markdown",
   "metadata": {},
   "source": [
    "5. Write a regular expression that matches a string that contains a number with exactly two decimal places. For example, the string \"1.23\" should match, but the string \"1.234\" should not match."
   ]
  },
  {
   "cell_type": "code",
   "execution_count": 7,
   "metadata": {},
   "outputs": [
    {
     "name": "stdout",
     "output_type": "stream",
     "text": [
      "123.45 matches\n",
      "1.23 matches\n",
      "1.234 does not match\n"
     ]
    }
   ],
   "source": [
    "import re\n",
    "\n",
    "num_regex = r'^\\d+\\.\\d{2}$'\n",
    "num1 = '123.45'\n",
    "num2 = '1.23'\n",
    "num3 = '1.234'\n",
    "\n",
    "if re.match(num_regex, num1):\n",
    "    print(num1, \"matches\")\n",
    "else:\n",
    "    print(num1, \"does not match\")\n",
    "\n",
    "if re.match(num_regex, num2):\n",
    "    print(num2, \"matches\")\n",
    "else:\n",
    "    print(num2, \"does not match\")\n",
    "\n",
    "if re.match(num_regex, num3):\n",
    "    print(num3, \"matches\")\n",
    "else:\n",
    "    print(num3, \"does not match\")"
   ]
  }
 ],
 "metadata": {
  "kernelspec": {
   "display_name": "Python 3",
   "language": "python",
   "name": "python3"
  },
  "language_info": {
   "codemirror_mode": {
    "name": "ipython",
    "version": 3
   },
   "file_extension": ".py",
   "mimetype": "text/x-python",
   "name": "python",
   "nbconvert_exporter": "python",
   "pygments_lexer": "ipython3",
   "version": "3.9.13"
  },
  "orig_nbformat": 4,
  "vscode": {
   "interpreter": {
    "hash": "f7a5be651532581cb44625d52e18aa1d390cab54bc6b51099d8c30bea9b68219"
   }
  }
 },
 "nbformat": 4,
 "nbformat_minor": 2
}
