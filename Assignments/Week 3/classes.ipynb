{
 "cells": [
  {
   "attachments": {},
   "cell_type": "markdown",
   "metadata": {},
   "source": [
    "1. Create a class called Rectangle that has attributes width and height. Add methods area and perimeter that calculate the area and perimeter of the rectangle, respectively."
   ]
  },
  {
   "cell_type": "code",
   "execution_count": 2,
   "metadata": {},
   "outputs": [
    {
     "name": "stdout",
     "output_type": "stream",
     "text": [
      "Area: 936 Perimeter: 180\n"
     ]
    }
   ],
   "source": [
    "class Rectangle:\n",
    "    def __init__(self, width, height):\n",
    "        self.width = width\n",
    "        self.height = height\n",
    "\n",
    "    def area(self):\n",
    "        return self.width * self.height\n",
    "\n",
    "    def perimeter(self):\n",
    "        return 2 * (self.width + self.height)\n",
    "\n",
    "rec = Rectangle(12,78)\n",
    "print(f\"Area: {rec.area()} Perimeter: {rec.perimeter()}\")"
   ]
  },
  {
   "attachments": {},
   "cell_type": "markdown",
   "metadata": {},
   "source": [
    "2. Create a class called Circle that has attribute radius. Add methods area and circumference that calculate the area and circumference of the circle, respectively."
   ]
  },
  {
   "cell_type": "code",
   "execution_count": 3,
   "metadata": {},
   "outputs": [
    {
     "name": "stdout",
     "output_type": "stream",
     "text": [
      "Area: 4536.459791783661 Perimeter: 238.76104167282426\n"
     ]
    }
   ],
   "source": [
    "import math\n",
    "\n",
    "class Circle:\n",
    "    def __init__(self, radius):\n",
    "        self.radius = radius\n",
    "    \n",
    "    def area(self):\n",
    "        return math.pi * self.radius ** 2\n",
    "    \n",
    "    def circumference(self):\n",
    "        return 2 * math.pi * self.radius\n",
    "\n",
    "cir = Circle(38)\n",
    "print(f\"Area: {cir.area()} Perimeter: {cir.circumference()}\")"
   ]
  },
  {
   "attachments": {},
   "cell_type": "markdown",
   "metadata": {},
   "source": [
    "3. Create a class called Car that has attributes make, model, and year. Add methods start and stop that simulate starting and stopping the car, respectively."
   ]
  },
  {
   "cell_type": "code",
   "execution_count": 5,
   "metadata": {},
   "outputs": [
    {
     "name": "stdout",
     "output_type": "stream",
     "text": [
      "Ferrari F 458 Italia started.\n",
      "Ferrari F 458 Italia stopped.\n"
     ]
    }
   ],
   "source": [
    "class Car:\n",
    "    def __init__(self, make, model, year):\n",
    "        self.make = make\n",
    "        self.model = model\n",
    "        self.year = year\n",
    "        self.is_running = False\n",
    "\n",
    "    def start(self):\n",
    "        if not self.is_running:\n",
    "            self.is_running = True\n",
    "            print(f\"{self.make} {self.model} started.\")\n",
    "\n",
    "    def stop(self):\n",
    "        if self.is_running:\n",
    "            self.is_running = False\n",
    "            print(f\"{self.make} {self.model} stopped.\")\n",
    "\n",
    "ferrari = Car(\"Ferrari\", \"F 458 Italia\", 2017 )\n",
    "ferrari.start()\n",
    "ferrari.stop()"
   ]
  },
  {
   "attachments": {},
   "cell_type": "markdown",
   "metadata": {},
   "source": [
    "4. Create a class called Dice that has attribute sides (the number of sides on the dice). Add a method roll that generates a random number between 1 and the number of sides on the dice."
   ]
  },
  {
   "cell_type": "code",
   "execution_count": 6,
   "metadata": {},
   "outputs": [
    {
     "name": "stdout",
     "output_type": "stream",
     "text": [
      "1\n"
     ]
    }
   ],
   "source": [
    "import random\n",
    "\n",
    "class Dice:\n",
    "    def __init__(self, sides):\n",
    "        self.sides = sides\n",
    "\n",
    "    def roll(self):\n",
    "        return random.randint(1, self.sides)\n",
    "\n",
    "d6 = Dice(6)\n",
    "result = d6.roll() \n",
    "print(result)\n"
   ]
  },
  {
   "attachments": {},
   "cell_type": "markdown",
   "metadata": {},
   "source": [
    "5. Create a class called Temperature that has attribute celsius (a temperature in degrees Celsius). Add methods to_fahrenheit and to_kelvin that convert the temperature to degrees Fahrenheit and Kelvin, respectively."
   ]
  },
  {
   "cell_type": "code",
   "execution_count": 7,
   "metadata": {},
   "outputs": [
    {
     "name": "stdout",
     "output_type": "stream",
     "text": [
      "To Fahrenheit: 68.0\n",
      "To Kelvin: 293.15\n"
     ]
    }
   ],
   "source": [
    "class Temperature:\n",
    "    def __init__(self, celsius):\n",
    "        self.celsius = celsius\n",
    "\n",
    "    def to_fahrenheit(self):\n",
    "        return self.celsius * 1.8 + 32\n",
    "\n",
    "    def to_kelvin(self):\n",
    "        return self.celsius + 273.15\n",
    "\n",
    "\n",
    "temp = Temperature(20)\n",
    "print(f\"To Fahrenheit: {temp.to_fahrenheit()}\")\n",
    "print(f\"To Kelvin: {temp.to_kelvin()}\")\n",
    "\n"
   ]
  },
  {
   "attachments": {},
   "cell_type": "markdown",
   "metadata": {},
   "source": [
    "6. Create a class called Book that has attributes title, author, and publication_year. Add a method get_age that calculates how many years ago the book was published."
   ]
  },
  {
   "cell_type": "code",
   "execution_count": 8,
   "metadata": {},
   "outputs": [
    {
     "name": "stdout",
     "output_type": "stream",
     "text": [
      "63\n"
     ]
    }
   ],
   "source": [
    "class Book:\n",
    "    def __init__(self, title, author, publication_year):\n",
    "        self.title = title\n",
    "        self.author = author\n",
    "        self.publication_year = publication_year\n",
    "        \n",
    "    def get_age(self):\n",
    "        current_year = 2023 \n",
    "        return current_year - self.publication_year\n",
    "\n",
    "book = Book(\"To Kill a Mockingbird\", \"Harper Lee\", 1960)\n",
    "age = book.get_age()\n",
    "print(age)  \n"
   ]
  },
  {
   "attachments": {},
   "cell_type": "markdown",
   "metadata": {},
   "source": [
    "7. Create a class called Rectangle that has attributes width and height. Add methods __str__ and __repr__ that return a string representation of the rectangle object."
   ]
  },
  {
   "cell_type": "code",
   "execution_count": 9,
   "metadata": {},
   "outputs": [
    {
     "name": "stdout",
     "output_type": "stream",
     "text": [
      "Rectangle(width=12, height=78)\n",
      "Rectangle(12, 78)\n"
     ]
    }
   ],
   "source": [
    "class Rectangle:\n",
    "    def __init__(self, width, height):\n",
    "        self.width = width\n",
    "        self.height = height\n",
    "        \n",
    "    def area(self):\n",
    "        return self.width * self.height\n",
    "    \n",
    "    def perimeter(self):\n",
    "        return 2 * (self.width + self.height)\n",
    "    \n",
    "    def __str__(self):\n",
    "        return f'Rectangle(width={self.width}, height={self.height})'\n",
    "    \n",
    "    def __repr__(self):\n",
    "        return f'Rectangle({self.width}, {self.height})'\n",
    "\n",
    "\n",
    "rec = Rectangle(12,78)\n",
    "print(str(rec))\n",
    "print(repr(rec))\n"
   ]
  }
 ],
 "metadata": {
  "kernelspec": {
   "display_name": "Python 3",
   "language": "python",
   "name": "python3"
  },
  "language_info": {
   "codemirror_mode": {
    "name": "ipython",
    "version": 3
   },
   "file_extension": ".py",
   "mimetype": "text/x-python",
   "name": "python",
   "nbconvert_exporter": "python",
   "pygments_lexer": "ipython3",
   "version": "3.9.13"
  },
  "orig_nbformat": 4
 },
 "nbformat": 4,
 "nbformat_minor": 2
}
