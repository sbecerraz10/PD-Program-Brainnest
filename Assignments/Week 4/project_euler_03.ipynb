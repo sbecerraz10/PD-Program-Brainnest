{
 "cells": [
  {
   "attachments": {},
   "cell_type": "markdown",
   "metadata": {},
   "source": [
    "1. \n",
    "\n",
    "In the United Kingdom the currency is made up of pound (£) and pence (p). There are eight coins in general circulation:\n",
    "\n",
    "    1p, 2p, 5p, 10p, 20p, 50p, £1 (100p), and £2 (200p).\n",
    "\n",
    "It is possible to make £2 in the following way:\n",
    "\n",
    "    1×£1 + 1×50p + 2×20p + 1×5p + 1×2p + 3×1p\n",
    "\n",
    "How many different ways can £2 be made using any number of coins?\n"
   ]
  },
  {
   "cell_type": "code",
   "execution_count": 1,
   "metadata": {},
   "outputs": [
    {
     "name": "stdout",
     "output_type": "stream",
     "text": [
      "73682\n"
     ]
    }
   ],
   "source": [
    "def count_coin_combinations():\n",
    "    coins = [1, 2, 5, 10, 20, 50, 100, 200]\n",
    "    ways = [0] * 201\n",
    "    ways[0] = 1\n",
    "    for coin in coins:\n",
    "        for i in range(coin, 201):\n",
    "            ways[i] += ways[i - coin]\n",
    "    return ways[200]\n",
    "\n",
    "print(count_coin_combinations())\n"
   ]
  },
  {
   "attachments": {},
   "cell_type": "markdown",
   "metadata": {},
   "source": [
    "2. \n",
    "\n",
    "We shall say that an n-digit number is pandigital if it makes use of all the digits 1 to n exactly once; for example, the 5-digit number, 15234, is 1 through 5 pandigital.\n",
    "\n",
    "The product 7254 is unusual, as the identity, 39 × 186 = 7254, containing multiplicand, multiplier, and product is 1 through 9 pandigital.\n",
    "\n",
    "Find the sum of all products whose multiplicand/multiplier/product identity can be written as a 1 through 9 pandigital.\n",
    "HINT: Some products can be obtained in more than one way so be sure to only include it once in your sum.\n"
   ]
  },
  {
   "cell_type": "code",
   "execution_count": 2,
   "metadata": {},
   "outputs": [
    {
     "name": "stdout",
     "output_type": "stream",
     "text": [
      "45228\n"
     ]
    }
   ],
   "source": [
    "def is_pandigital(n):\n",
    "    return ''.join(sorted(str(n))) == '123456789'\n",
    "\n",
    "products = set()\n",
    "\n",
    "for i in range(1, 100):\n",
    "    for j in range(100, 10000):\n",
    "        product = i * j\n",
    "        if is_pandigital(str(i) + str(j) + str(product)) and len(str(i) + str(j) + str(product)) == 9:\n",
    "            products.add(product)\n",
    "\n",
    "result = sum(products)\n",
    "\n",
    "print(result)\n"
   ]
  },
  {
   "attachments": {},
   "cell_type": "markdown",
   "metadata": {},
   "source": [
    "3. \n",
    "\n",
    "The fraction 49/98 is a curious fraction, as an inexperienced mathematician in attempting to simplify it may incorrectly believe that 49/98 = 4/8, which is correct, is obtained by cancelling the 9s.\n",
    "\n",
    "We shall consider fractions like, 30/50 = 3/5, to be trivial examples.\n",
    "\n",
    "There are exactly four non-trivial examples of this type of fraction, less than one in value, and containing two digits in the numerator and denominator.\n",
    "\n",
    "If the product of these four fractions is given in its lowest common terms, find the value of the denominator.\n"
   ]
  },
  {
   "cell_type": "code",
   "execution_count": 3,
   "metadata": {},
   "outputs": [
    {
     "name": "stdout",
     "output_type": "stream",
     "text": [
      "100\n"
     ]
    }
   ],
   "source": [
    "import math\n",
    "\n",
    "\n",
    "def is_equal(n1, d1, n2, d2):\n",
    "    return n1 * d2 == n2 * d1\n",
    "\n",
    "\n",
    "fractions = []\n",
    "\n",
    "\n",
    "for numerator in range(10, 100):\n",
    "    for denominator in range(numerator + 1, 100):\n",
    "      \n",
    "        if numerator % 10 != 0 and denominator % 10 != 0:\n",
    "            \n",
    "            n1, n2 = divmod(numerator, 10)\n",
    "            d1, d2 = divmod(denominator, 10)\n",
    "            if (n1 == d1 and is_equal(numerator, denominator, n2, d2)) or \\\n",
    "               (n1 == d2 and is_equal(numerator, denominator, n2, d1)) or \\\n",
    "               (n2 == d1 and is_equal(numerator, denominator, n1, d2)) or \\\n",
    "               (n2 == d2 and is_equal(numerator, denominator, n1, d1)):\n",
    "                fractions.append((numerator, denominator))\n",
    "\n",
    "\n",
    "numerator_product = 1\n",
    "denominator_product = 1\n",
    "for fraction in fractions:\n",
    "    numerator_product *= fraction[0]\n",
    "    denominator_product *= fraction[1]\n",
    "\n",
    "\n",
    "gcd = math.gcd(numerator_product, denominator_product)\n",
    "result = denominator_product // gcd\n",
    "\n",
    "print(result)\n"
   ]
  },
  {
   "attachments": {},
   "cell_type": "markdown",
   "metadata": {},
   "source": [
    "4. \n",
    "\n",
    "145 is a curious number, as 1! + 4! + 5! = 1 + 24 + 120 = 145.\n",
    "\n",
    "Find the sum of all numbers which are equal to the sum of the factorial of their digits.\n",
    "\n",
    "Note: As 1! = 1 and 2! = 2 are not sums they are not included.\n"
   ]
  },
  {
   "cell_type": "code",
   "execution_count": 4,
   "metadata": {},
   "outputs": [
    {
     "name": "stdout",
     "output_type": "stream",
     "text": [
      "40730\n"
     ]
    }
   ],
   "source": [
    "\n",
    "factorials = [1]\n",
    "for i in range(1, 10):\n",
    "    factorials.append(factorials[-1] * i)\n",
    "\n",
    "total = 0\n",
    "for n in range(10, 1000000):\n",
    "    digit_factorials_sum = sum(factorials[int(digit)] for digit in str(n))\n",
    "    if digit_factorials_sum == n:\n",
    "        total += n\n",
    "\n",
    "print(total)\n"
   ]
  },
  {
   "attachments": {},
   "cell_type": "markdown",
   "metadata": {},
   "source": [
    "5. \n",
    "\n",
    "The number, 197, is called a circular prime because all rotations of the digits: 197, 971, and 719, are themselves prime.\n",
    "\n",
    "There are thirteen such primes below 100: 2, 3, 5, 7, 11, 13, 17, 31, 37, 71, 73, 79, and 97.\n",
    "\n",
    "How many circular primes are there below one million?\n"
   ]
  },
  {
   "cell_type": "code",
   "execution_count": 5,
   "metadata": {},
   "outputs": [
    {
     "name": "stdout",
     "output_type": "stream",
     "text": [
      "55\n"
     ]
    }
   ],
   "source": [
    "def generate_primes(n):\n",
    "    # Create a list of all integers from 2 to n\n",
    "    primes = list(range(2, n+1))\n",
    "    # Iterate over the list and remove all multiples of each prime\n",
    "    for i in primes:\n",
    "        if i:\n",
    "            for j in range(i**2, n+1, i):\n",
    "                primes[j-2] = None\n",
    "    # Remove all None values from the list\n",
    "    return [i for i in primes if i]\n",
    "\n",
    "def is_circular_prime(n):\n",
    "    # Convert the number to a string and get its length\n",
    "    s = str(n)\n",
    "    l = len(s)\n",
    "    # Check if all of its rotations are prime\n",
    "    for i in range(l):\n",
    "        if not is_prime(int(s[i:] + s[:i])):\n",
    "            return False\n",
    "    return True\n",
    "\n",
    "def is_prime(n):\n",
    "    # Check if n is less than 2\n",
    "    if n < 2:\n",
    "        return False\n",
    "    # Check if n is divisible by any number less than its square root\n",
    "    for i in range(2, int(n**0.5)+1):\n",
    "        if n % i == 0:\n",
    "            return False\n",
    "    return True\n",
    "\n",
    "# Generate all primes below one million\n",
    "primes = generate_primes(1000000)\n",
    "\n",
    "# Count the number of circular primes\n",
    "count = 0\n",
    "for p in primes:\n",
    "    if is_circular_prime(p):\n",
    "        count += 1\n",
    "\n",
    "print(count)\n"
   ]
  }
 ],
 "metadata": {
  "kernelspec": {
   "display_name": "Python 3",
   "language": "python",
   "name": "python3"
  },
  "language_info": {
   "codemirror_mode": {
    "name": "ipython",
    "version": 3
   },
   "file_extension": ".py",
   "mimetype": "text/x-python",
   "name": "python",
   "nbconvert_exporter": "python",
   "pygments_lexer": "ipython3",
   "version": "3.9.13"
  },
  "orig_nbformat": 4
 },
 "nbformat": 4,
 "nbformat_minor": 2
}
