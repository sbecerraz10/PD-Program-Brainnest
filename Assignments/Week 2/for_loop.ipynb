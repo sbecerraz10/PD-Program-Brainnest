{
 "cells": [
  {
   "attachments": {},
   "cell_type": "markdown",
   "metadata": {},
   "source": [
    "1. Create a for loop that iterates through a list of strings and prints each string in uppercase."
   ]
  },
  {
   "cell_type": "code",
   "execution_count": 2,
   "metadata": {},
   "outputs": [
    {
     "name": "stdout",
     "output_type": "stream",
     "text": [
      "HALLO\n",
      "WELT\n",
      "PYTHON\n",
      "IST\n",
      "GENIAL\n"
     ]
    }
   ],
   "source": [
    "my_list = [\"hallo\", \"welt\", \"python\", \"ist\", \"genial\"]\n",
    "for string in my_list:\n",
    "    print(string.upper())\n"
   ]
  },
  {
   "attachments": {},
   "cell_type": "markdown",
   "metadata": {},
   "source": [
    "2. Create a for loop that iterates through a list of numbers and prints the square of each number."
   ]
  },
  {
   "cell_type": "code",
   "execution_count": 1,
   "metadata": {},
   "outputs": [
    {
     "name": "stdout",
     "output_type": "stream",
     "text": [
      "4\n",
      "25\n",
      "81\n",
      "121\n",
      "324\n"
     ]
    }
   ],
   "source": [
    "list = [2,5,9,11,18]\n",
    "for i in list:\n",
    "    print(i**2)"
   ]
  },
  {
   "attachments": {},
   "cell_type": "markdown",
   "metadata": {},
   "source": [
    "3. Create a for loop that iterates through a list of dictionaries and prints the value of a specified key for each dictionary."
   ]
  },
  {
   "cell_type": "code",
   "execution_count": 3,
   "metadata": {},
   "outputs": [
    {
     "name": "stdout",
     "output_type": "stream",
     "text": [
      "Alice\n",
      "Bob\n",
      "Charlie\n"
     ]
    }
   ],
   "source": [
    "my_list = [\n",
    "    {\"name\": \"Alice\", \"age\": 25},\n",
    "    {\"name\": \"Bob\", \"age\": 30},\n",
    "    {\"name\": \"Charlie\", \"age\": 35}\n",
    "]\n",
    "\n",
    "for person in my_list:\n",
    "    print(person[\"name\"])\n"
   ]
  },
  {
   "attachments": {},
   "cell_type": "markdown",
   "metadata": {},
   "source": [
    "4. Create a for loop that iterates through a list of numbers and prints the largest number in the list."
   ]
  },
  {
   "cell_type": "code",
   "execution_count": 4,
   "metadata": {},
   "outputs": [
    {
     "name": "stdout",
     "output_type": "stream",
     "text": [
      "The largest number is: 42\n"
     ]
    }
   ],
   "source": [
    "my_list = [10, 25, 7, 42, 15, 30, 20]\n",
    "\n",
    "largest_number = my_list[0]\n",
    "for number in my_list:\n",
    "    if number > largest_number:\n",
    "        largest_number = number\n",
    "\n",
    "print(\"The largest number is:\", largest_number)\n"
   ]
  },
  {
   "attachments": {},
   "cell_type": "markdown",
   "metadata": {},
   "source": [
    "5. Create a for loop that iterates through a list of lists and prints the sum of the elements in each sub-list."
   ]
  },
  {
   "cell_type": "code",
   "execution_count": 5,
   "metadata": {},
   "outputs": [
    {
     "name": "stdout",
     "output_type": "stream",
     "text": [
      "The sum of [11, 43, 23] is 77\n",
      "The sum of [54, 52, 61] is 167\n",
      "The sum of [27, 38, 94] is 159\n"
     ]
    }
   ],
   "source": [
    "my_list = [[11, 43, 23], [54, 52, 61], [27, 38, 94]]\n",
    "\n",
    "for sublist in my_list:\n",
    "    sublist_sum = sum(sublist)\n",
    "    print(\"The sum of\", sublist, \"is\", sublist_sum)\n"
   ]
  }
 ],
 "metadata": {
  "kernelspec": {
   "display_name": "Python 3",
   "language": "python",
   "name": "python3"
  },
  "language_info": {
   "codemirror_mode": {
    "name": "ipython",
    "version": 3
   },
   "file_extension": ".py",
   "mimetype": "text/x-python",
   "name": "python",
   "nbconvert_exporter": "python",
   "pygments_lexer": "ipython3",
   "version": "3.9.13"
  },
  "orig_nbformat": 4
 },
 "nbformat": 4,
 "nbformat_minor": 2
}
