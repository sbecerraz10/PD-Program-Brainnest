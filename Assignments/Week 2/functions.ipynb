{
 "cells": [
  {
   "attachments": {},
   "cell_type": "markdown",
   "metadata": {},
   "source": [
    "1. Write a program that takes a list of numbers and returns the largest number in the list."
   ]
  },
  {
   "cell_type": "code",
   "execution_count": 1,
   "metadata": {},
   "outputs": [
    {
     "name": "stdout",
     "output_type": "stream",
     "text": [
      "The largest number in the list is: 9\n"
     ]
    }
   ],
   "source": [
    "numbers = [1, 2, 3, 4, 5, 6, 7, 8, 9]\n",
    "def find_largest(numbers):\n",
    "    largest = numbers[0]\n",
    "    for num in numbers:\n",
    "        if num > largest:\n",
    "            largest = num\n",
    "    return largest\n",
    "\n",
    "\n",
    "largest_num = find_largest(numbers)\n",
    "print(\"The largest number in the list is:\", largest_num)"
   ]
  },
  {
   "attachments": {},
   "cell_type": "markdown",
   "metadata": {},
   "source": [
    "2. Write a program that takes a string and returns the number of vowels in the string."
   ]
  },
  {
   "cell_type": "code",
   "execution_count": 2,
   "metadata": {},
   "outputs": [
    {
     "name": "stdout",
     "output_type": "stream",
     "text": [
      "3\n"
     ]
    }
   ],
   "source": [
    "string = \"Hello, world!\"\n",
    "def count_vowels(string):\n",
    "    vowels = \"aeiouAEIOU\"\n",
    "    count = 0\n",
    "    for char in string:\n",
    "        if char in vowels:\n",
    "            count += 1\n",
    "    return count\n",
    "\n",
    "print(count_vowels(string))"
   ]
  },
  {
   "attachments": {},
   "cell_type": "markdown",
   "metadata": {},
   "source": [
    "3. Write a program that takes a list of strings and returns a new list that contains only the strings that start with the letter 'a'."
   ]
  },
  {
   "cell_type": "code",
   "execution_count": 9,
   "metadata": {},
   "outputs": [
    {
     "name": "stdout",
     "output_type": "stream",
     "text": [
      "['apple']\n"
     ]
    }
   ],
   "source": [
    "strings = [\"apple\", \"banana\", \"cherry\", \"date\"]\n",
    "\n",
    "def filter_strings(letter,strings):\n",
    "    filtered_strings = []\n",
    "    for string in strings:\n",
    "        if string.startswith(letter):\n",
    "            filtered_strings.append(string)\n",
    "    return filtered_strings\n",
    "\n",
    "\n",
    "print(filter_strings(\"a\", strings))\n"
   ]
  },
  {
   "attachments": {},
   "cell_type": "markdown",
   "metadata": {},
   "source": [
    "4. Write a program that takes a sentence (string) and returns a dictionary with the count of each word in the sentence."
   ]
  },
  {
   "cell_type": "code",
   "execution_count": 10,
   "metadata": {},
   "outputs": [
    {
     "name": "stdout",
     "output_type": "stream",
     "text": [
      "{'this': 1, 'is': 1, 'a': 1, 'test': 1, 'sentence': 1}\n"
     ]
    }
   ],
   "source": [
    "sentence = \"this is a test sentence\"\n",
    "def word_count(sentence):\n",
    "    word_counts = {}\n",
    "    words = sentence.split()\n",
    "    for word in words:\n",
    "        if word not in word_counts:\n",
    "            word_counts[word] = 1\n",
    "        else:\n",
    "            word_counts[word] += 1\n",
    "    return word_counts\n",
    "\n",
    "print(word_count(sentence))"
   ]
  },
  {
   "attachments": {},
   "cell_type": "markdown",
   "metadata": {},
   "source": [
    "5. Write a program that takes two lists of numbers and returns a new list that contains only the numbers that are common to both lists."
   ]
  },
  {
   "cell_type": "code",
   "execution_count": 11,
   "metadata": {},
   "outputs": [
    {
     "name": "stdout",
     "output_type": "stream",
     "text": [
      "[8, 2, 4, 6]\n"
     ]
    }
   ],
   "source": [
    "list1 = [1, 2, 3, 4, 5, 6, 7, 8, 9]\n",
    "list2 = [2, 4, 6, 8, 10, 12, 14, 16, 18]\n",
    "\n",
    "def common_elements(list1, list2):\n",
    "    return list(set(list1) & set(list2))\n",
    "\n",
    "print(common_elements(list1, list2))"
   ]
  },
  {
   "attachments": {},
   "cell_type": "markdown",
   "metadata": {},
   "source": [
    "6. Write a program that takes a list of integers and returns a new list that contains only the prime numbers from the original list."
   ]
  },
  {
   "cell_type": "code",
   "execution_count": 12,
   "metadata": {},
   "outputs": [
    {
     "name": "stdout",
     "output_type": "stream",
     "text": [
      "[2, 3, 5, 7, 11, 13]\n"
     ]
    }
   ],
   "source": [
    "numbers = [1, 2, 3, 4, 5, 6, 7, 8, 9, 10, 11, 12, 13, 14, 15]\n",
    "\n",
    "def is_prime(n):\n",
    "    if n < 2:\n",
    "        return False\n",
    "    for i in range(2, int(n ** 0.5) + 1):\n",
    "        if n % i == 0:\n",
    "            return False\n",
    "    return True\n",
    "\n",
    "def prime_numbers(numbers):\n",
    "    return [n for n in numbers if is_prime(n)]\n",
    "\n",
    "print(prime_numbers(numbers))"
   ]
  },
  {
   "attachments": {},
   "cell_type": "markdown",
   "metadata": {},
   "source": [
    "7. Write a program that takes a string and returns the number of words in the string."
   ]
  },
  {
   "cell_type": "code",
   "execution_count": 13,
   "metadata": {},
   "outputs": [
    {
     "name": "stdout",
     "output_type": "stream",
     "text": [
      "7\n"
     ]
    }
   ],
   "source": [
    "string = \"Write a program that takes a string\"\n",
    "\n",
    "def count_words_in_string(string):\n",
    "    array = string.split(\" \")\n",
    "    return len(array)\n",
    "\n",
    "print(count_words_in_string(string))"
   ]
  },
  {
   "attachments": {},
   "cell_type": "markdown",
   "metadata": {},
   "source": [
    "8. Write a program that takes a list of strings and returns a new list that contains only the strings that are palindrome."
   ]
  },
  {
   "cell_type": "code",
   "execution_count": 14,
   "metadata": {},
   "outputs": [
    {
     "name": "stdout",
     "output_type": "stream",
     "text": [
      "['madam', 'level', 'civic']\n"
     ]
    }
   ],
   "source": [
    "strings = [\"madam\", \"level\", \"civic\"]\n",
    "\n",
    "def is_palindrome(s):\n",
    "    return s == s[::-1]\n",
    "\n",
    "def palindrome_strings(strings):\n",
    "    return [s for s in strings if is_palindrome(s)]\n",
    "\n",
    "print(palindrome_strings(strings))"
   ]
  },
  {
   "attachments": {},
   "cell_type": "markdown",
   "metadata": {},
   "source": [
    "9. Write a program that takes a sentence (string) and returns a tuple of the most frequent word and its frequency."
   ]
  },
  {
   "cell_type": "code",
   "execution_count": 15,
   "metadata": {},
   "outputs": [
    {
     "name": "stdout",
     "output_type": "stream",
     "text": [
      "('test', 3)\n"
     ]
    }
   ],
   "source": [
    "sentence = \"this is a test sentence to test the test\"\n",
    "\n",
    "def most_frequent_word(sentence):\n",
    "    words = sentence.lower().split()\n",
    "    frequency = {}\n",
    "    for word in words:\n",
    "        if word in frequency:\n",
    "            frequency[word] += 1\n",
    "        else:\n",
    "            frequency[word] = 1\n",
    "    max_frequency = max(frequency.values())\n",
    "    most_frequent = [word for word, freq in frequency.items() if freq == max_frequency]\n",
    "    return (most_frequent[0], max_frequency)\n",
    "\n",
    "print(most_frequent_word(sentence))"
   ]
  }
 ],
 "metadata": {
  "kernelspec": {
   "display_name": "Python 3",
   "language": "python",
   "name": "python3"
  },
  "language_info": {
   "codemirror_mode": {
    "name": "ipython",
    "version": 3
   },
   "file_extension": ".py",
   "mimetype": "text/x-python",
   "name": "python",
   "nbconvert_exporter": "python",
   "pygments_lexer": "ipython3",
   "version": "3.9.13"
  },
  "orig_nbformat": 4,
  "vscode": {
   "interpreter": {
    "hash": "f7a5be651532581cb44625d52e18aa1d390cab54bc6b51099d8c30bea9b68219"
   }
  }
 },
 "nbformat": 4,
 "nbformat_minor": 2
}
