{
 "cells": [
  {
   "attachments": {},
   "cell_type": "markdown",
   "metadata": {},
   "source": [
    "1. Create a while loop that repeatedly takes user input and adds the input to a list until the user enters \"done\"."
   ]
  },
  {
   "cell_type": "code",
   "execution_count": 10,
   "metadata": {},
   "outputs": [
    {
     "name": "stdout",
     "output_type": "stream",
     "text": [
      "['data']\n",
      "['data', 'data']\n",
      "['data', 'data', 'Home']\n",
      "['data', 'data', 'Home', 'School']\n",
      "['data', 'data', 'Home', 'School', 'Mall']\n",
      "['data', 'data', 'Home', 'School', 'Mall', 'done']\n"
     ]
    }
   ],
   "source": [
    "my_list = []\n",
    "while(True):\n",
    "    inp = input(\"Enter data\")\n",
    "    my_list.append(inp)\n",
    "    print(my_list)\n",
    "    if str(inp) == \"done\":\n",
    "        break\n",
    "    else:\n",
    "        continue\n"
   ]
  },
  {
   "attachments": {},
   "cell_type": "markdown",
   "metadata": {},
   "source": [
    "2. Create a while loop that generates random numbers and adds them to a list until the sum of all numbers in the list is greater than 100."
   ]
  },
  {
   "cell_type": "code",
   "execution_count": 16,
   "metadata": {},
   "outputs": [
    {
     "name": "stdout",
     "output_type": "stream",
     "text": [
      "Current list: [4]\n",
      "Value: 4\n",
      "Current list: [4, 10]\n",
      "Value: 14\n",
      "Current list: [4, 10, 9]\n",
      "Value: 23\n",
      "Current list: [4, 10, 9, 6]\n",
      "Value: 29\n",
      "Current list: [4, 10, 9, 6, 3]\n",
      "Value: 32\n",
      "Current list: [4, 10, 9, 6, 3, 1]\n",
      "Value: 33\n",
      "Current list: [4, 10, 9, 6, 3, 1, 8]\n",
      "Value: 41\n",
      "Current list: [4, 10, 9, 6, 3, 1, 8, 3]\n",
      "Value: 44\n",
      "Current list: [4, 10, 9, 6, 3, 1, 8, 3, 5]\n",
      "Value: 49\n",
      "Current list: [4, 10, 9, 6, 3, 1, 8, 3, 5, 1]\n",
      "Value: 50\n",
      "Current list: [4, 10, 9, 6, 3, 1, 8, 3, 5, 1, 9]\n",
      "Value: 59\n",
      "Current list: [4, 10, 9, 6, 3, 1, 8, 3, 5, 1, 9, 1]\n",
      "Value: 60\n",
      "Current list: [4, 10, 9, 6, 3, 1, 8, 3, 5, 1, 9, 1, 6]\n",
      "Value: 66\n",
      "Current list: [4, 10, 9, 6, 3, 1, 8, 3, 5, 1, 9, 1, 6, 5]\n",
      "Value: 71\n",
      "Current list: [4, 10, 9, 6, 3, 1, 8, 3, 5, 1, 9, 1, 6, 5, 8]\n",
      "Value: 79\n",
      "Current list: [4, 10, 9, 6, 3, 1, 8, 3, 5, 1, 9, 1, 6, 5, 8, 5]\n",
      "Value: 84\n",
      "Current list: [4, 10, 9, 6, 3, 1, 8, 3, 5, 1, 9, 1, 6, 5, 8, 5, 1]\n",
      "Value: 85\n",
      "Current list: [4, 10, 9, 6, 3, 1, 8, 3, 5, 1, 9, 1, 6, 5, 8, 5, 1, 5]\n",
      "Value: 90\n",
      "Current list: [4, 10, 9, 6, 3, 1, 8, 3, 5, 1, 9, 1, 6, 5, 8, 5, 1, 5, 6]\n",
      "Value: 96\n",
      "Last List [4, 10, 9, 6, 3, 1, 8, 3, 5, 1, 9, 1, 6, 5, 8, 5, 1, 5, 6, 10]\n",
      "Value: 106\n"
     ]
    }
   ],
   "source": [
    "import random\n",
    "my_list = []\n",
    "while (True): \n",
    "    random_num = random.randint(0,10)\n",
    "    my_list.append(random_num)\n",
    "    if sum(my_list) > 100:\n",
    "        print(f\"Last List {my_list}\")\n",
    "        print(f\"Value: {sum(my_list)}\")\n",
    "        break\n",
    "    else:\n",
    "        print(f\"Current list: {my_list}\")\n",
    "        print(f\"Value: {sum(my_list)}\")\n"
   ]
  },
  {
   "attachments": {},
   "cell_type": "markdown",
   "metadata": {},
   "source": [
    "3. Create a while loop that repeatedly takes user input and appends it to a list, but only if the input is a unique string."
   ]
  },
  {
   "cell_type": "code",
   "execution_count": 19,
   "metadata": {},
   "outputs": [
    {
     "name": "stdout",
     "output_type": "stream",
     "text": [
      "['data']\n",
      "['data', 'home']\n",
      "Already in the list\n",
      "['data', 'home']\n",
      "Already in the list\n",
      "['data', 'home']\n",
      "Already in the list\n",
      "['data', 'home']\n",
      "Already in the list\n",
      "['data', 'home']\n",
      "['data', 'home', 'was']\n",
      "Already in the list\n",
      "['data', 'home', 'was']\n",
      "['data', 'home', 'was', 'done']\n"
     ]
    }
   ],
   "source": [
    "my_list = []\n",
    "while(True):\n",
    "    inp = input(\"Enter data\")\n",
    "    if str(inp) not in my_list: \n",
    "        my_list.append(inp)\n",
    "    else:\n",
    "        print(\"Already in the list\")\n",
    "    print(my_list)\n",
    "    if str(inp) == \"done\":\n",
    "        break\n",
    "    else:\n",
    "        continue"
   ]
  },
  {
   "attachments": {},
   "cell_type": "markdown",
   "metadata": {},
   "source": [
    "4. Create a while loop that repeatedly takes user input and appends it to a list, but only if the input is a number greater than 10."
   ]
  },
  {
   "cell_type": "code",
   "execution_count": 2,
   "metadata": {},
   "outputs": [
    {
     "name": "stdout",
     "output_type": "stream",
     "text": [
      "[23]\n",
      "[23, 45]\n",
      "[23, 45, 67]\n",
      "[23, 45, 67, 12]\n",
      "[23, 45, 67, 12, 90]\n",
      "[23, 45, 67, 12, 90, 78]\n"
     ]
    }
   ],
   "source": [
    "my_list = []\n",
    "while(True):\n",
    "    try:    \n",
    "        inp_int = int(input(\"Enter a number (0 to stop the program)\"))\n",
    "        if inp_int > 10 : \n",
    "            my_list.append(inp_int)\n",
    "            print(my_list)\n",
    "        else:\n",
    "            if inp_int == 0:\n",
    "                break\n",
    "            else: print(\"Just numbers greater than 10\")\n",
    "    except ValueError: print(\"Just numbers please\")"
   ]
  },
  {
   "attachments": {},
   "cell_type": "markdown",
   "metadata": {},
   "source": [
    "5. Create a while loop that repeatedly takes user input and keeps track of the highest number entered until the user enters \"done\"."
   ]
  },
  {
   "cell_type": "code",
   "execution_count": 4,
   "metadata": {},
   "outputs": [
    {
     "name": "stdout",
     "output_type": "stream",
     "text": [
      "This is the list: [78]\n",
      "The greatest number in the list is: 78\n",
      "This is the list: [78, 90]\n",
      "The greatest number in the list is: 90\n",
      "This is the list: [78, 90, 67]\n",
      "The greatest number in the list is: 90\n",
      "This is the list: [78, 90, 67, 70]\n",
      "The greatest number in the list is: 90\n",
      "This is the list: [78, 90, 67, 70, 80]\n",
      "The greatest number in the list is: 90\n",
      "This is the list: [78, 90, 67, 70, 80, 112]\n",
      "The greatest number in the list is: 112\n",
      "This is the list: [78, 90, 67, 70, 80, 112, 145]\n",
      "The greatest number in the list is: 145\n",
      "This is the list: [78, 90, 67, 70, 80, 112, 145, 67]\n",
      "The greatest number in the list is: 145\n"
     ]
    }
   ],
   "source": [
    "my_list = []\n",
    "while(True):\n",
    "    try:    \n",
    "        inp_data = input(\"Enter a number (done to stop the program)\")\n",
    "        inp_int = int(inp_data)\n",
    "        my_list.append(inp_int)\n",
    "        print(f\"This is the list: {my_list}\")\n",
    "        print(f\"The greatest number in the list is: {max(my_list)}\")\n",
    "    except ValueError: \n",
    "        inp_str = str(inp_data) \n",
    "        if inp_str == \"done\": \n",
    "            break"
   ]
  }
 ],
 "metadata": {
  "kernelspec": {
   "display_name": "Python 3",
   "language": "python",
   "name": "python3"
  },
  "language_info": {
   "codemirror_mode": {
    "name": "ipython",
    "version": 3
   },
   "file_extension": ".py",
   "mimetype": "text/x-python",
   "name": "python",
   "nbconvert_exporter": "python",
   "pygments_lexer": "ipython3",
   "version": "3.9.13"
  },
  "orig_nbformat": 4
 },
 "nbformat": 4,
 "nbformat_minor": 2
}
